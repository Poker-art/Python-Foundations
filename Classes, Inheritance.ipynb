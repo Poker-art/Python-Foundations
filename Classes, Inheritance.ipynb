{
 "cells": [
  {
   "cell_type": "code",
   "execution_count": null,
   "metadata": {},
   "outputs": [],
   "source": [
    "#classes - collection of functions"
   ]
  },
  {
   "cell_type": "code",
   "execution_count": 16,
   "metadata": {},
   "outputs": [],
   "source": [
    "class Example():\n",
    "    def hi():\n",
    "        print(\"howdy\")\n",
    "    def hello():\n",
    "        print(\"whatsup?\")"
   ]
  },
  {
   "cell_type": "code",
   "execution_count": 18,
   "metadata": {},
   "outputs": [
    {
     "name": "stdout",
     "output_type": "stream",
     "text": [
      "whatsup?\n"
     ]
    }
   ],
   "source": [
    "Example.hello()"
   ]
  },
  {
   "cell_type": "code",
   "execution_count": null,
   "metadata": {},
   "outputs": [],
   "source": [
    "#Blueprints"
   ]
  },
  {
   "cell_type": "code",
   "execution_count": 14,
   "metadata": {},
   "outputs": [],
   "source": [
    "class Sims():\n",
    "    def __init__(self,name,sex,hobby):\n",
    "        self.name = name\n",
    "        self.sex = sex\n",
    "        self.hobby = hobby"
   ]
  },
  {
   "cell_type": "code",
   "execution_count": 20,
   "metadata": {},
   "outputs": [],
   "source": [
    "andy = Sims(\"Andy\",\"Male\",\"Acting\")\n",
    "jim = Sims(\"Jim\", \"Male\", \"Juggling\")"
   ]
  },
  {
   "cell_type": "code",
   "execution_count": 24,
   "metadata": {},
   "outputs": [
    {
     "data": {
      "text/plain": [
       "'Jim'"
      ]
     },
     "execution_count": 24,
     "metadata": {},
     "output_type": "execute_result"
    }
   ],
   "source": []
  },
  {
   "cell_type": "code",
   "execution_count": null,
   "metadata": {},
   "outputs": [],
   "source": [
    "#Inheritance - kind of a super class (a class take values from another class)"
   ]
  },
  {
   "cell_type": "code",
   "execution_count": 5,
   "metadata": {},
   "outputs": [],
   "source": [
    "class Character:\n",
    "    def __init__(self,strength,magic,movement_speed):\n",
    "        self.strength = strength\n",
    "        self.magic = magic\n",
    "        self.movement_speed = movement_speed\n",
    "\n",
    "class Wizard(Character):\n",
    "    def spell(self):\n",
    "        print(\"KAPOW!\")\n",
    "        \n",
    "class Warrior(Character):\n",
    "    def strike(self):\n",
    "        print(\"BASH! that was a strike!\")\n",
    "              \n",
    "Gandalff = Wizard(2,10,6)\n",
    "              \n",
    "Barbarian = Warrior(10,2,8)"
   ]
  },
  {
   "cell_type": "code",
   "execution_count": 9,
   "metadata": {},
   "outputs": [
    {
     "data": {
      "text/plain": [
       "10"
      ]
     },
     "execution_count": 9,
     "metadata": {},
     "output_type": "execute_result"
    }
   ],
   "source": [
    "Barbarian.strength"
   ]
  },
  {
   "cell_type": "code",
   "execution_count": 59,
   "metadata": {},
   "outputs": [
    {
     "name": "stdout",
     "output_type": "stream",
     "text": [
      "BASH! that was a strike!\n"
     ]
    }
   ],
   "source": [
    "Barbarian.strike()"
   ]
  },
  {
   "cell_type": "code",
   "execution_count": null,
   "metadata": {},
   "outputs": [],
   "source": [
    "#PRACTICAL"
   ]
  },
  {
   "cell_type": "markdown",
   "metadata": {},
   "source": [
    "1.classes\n"
   ]
  },
  {
   "cell_type": "code",
   "execution_count": 20,
   "metadata": {},
   "outputs": [],
   "source": [
    "class Coins():\n",
    "    def __init__(self,size,weight,color):\n",
    "        self.size = size\n",
    "        self.weight = weight\n",
    "        self.color = color\n",
    "    "
   ]
  },
  {
   "cell_type": "code",
   "execution_count": 21,
   "metadata": {},
   "outputs": [],
   "source": [
    "Shekel = Coins(\"large\",\"6g\",\"red\")\n",
    "Yen = Coins(\"Small\",\"10g\",\"Blue\")"
   ]
  },
  {
   "cell_type": "code",
   "execution_count": 56,
   "metadata": {},
   "outputs": [
    {
     "data": {
      "text/plain": [
       "'red'"
      ]
     },
     "execution_count": 56,
     "metadata": {},
     "output_type": "execute_result"
    }
   ],
   "source": [
    "Shekel.color"
   ]
  },
  {
   "cell_type": "code",
   "execution_count": 71,
   "metadata": {},
   "outputs": [],
   "source": [
    "class AutoMobiles:\n",
    "    def __init__(self,Price,Color,HorsePower,Type):\n",
    "        self.Price = Price\n",
    "        self.Color = Color\n",
    "        self.HorsePower = HorsePower\n",
    "        self.Type = Type\n",
    "class trucks(AutoMobiles):\n",
    "    def honk(self):\n",
    "        print(\"chuggg\")\n",
    "        \n",
    "class cars(AutoMobiles):\n",
    "    def gas(self):\n",
    "        print(\"vrrrrrr\")\n",
    "        \n"
   ]
  },
  {
   "cell_type": "code",
   "execution_count": 72,
   "metadata": {},
   "outputs": [],
   "source": [
    "Ferrari = cars(\"Three Million\",\"Red\",1260,\"Super Car\")\n",
    "Jeep = trucks(\"400 thousand\", \"white\", 600,\"off road\")\n",
    "Lamborginhi = cars(\"10 Million\", \"Yellow\", 1800, \"Super Car\")   \n"
   ]
  },
  {
   "cell_type": "code",
   "execution_count": 77,
   "metadata": {},
   "outputs": [
    {
     "name": "stdout",
     "output_type": "stream",
     "text": [
      "vrrrrrr\n"
     ]
    }
   ],
   "source": [
    "Lamborginhi.gas()\n"
   ]
  },
  {
   "cell_type": "code",
   "execution_count": 78,
   "metadata": {},
   "outputs": [
    {
     "data": {
      "text/plain": [
       "'10 Million'"
      ]
     },
     "execution_count": 78,
     "metadata": {},
     "output_type": "execute_result"
    }
   ],
   "source": [
    "LAmborginhi.Price"
   ]
  },
  {
   "cell_type": "code",
   "execution_count": null,
   "metadata": {},
   "outputs": [],
   "source": [
    " "
   ]
  }
 ],
 "metadata": {
  "kernelspec": {
   "display_name": "Python 3",
   "language": "python",
   "name": "python3"
  },
  "language_info": {
   "codemirror_mode": {
    "name": "ipython",
    "version": 3
   },
   "file_extension": ".py",
   "mimetype": "text/x-python",
   "name": "python",
   "nbconvert_exporter": "python",
   "pygments_lexer": "ipython3",
   "version": "3.7.6"
  }
 },
 "nbformat": 4,
 "nbformat_minor": 2
}
