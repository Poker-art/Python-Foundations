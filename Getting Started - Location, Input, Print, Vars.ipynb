{
 "cells": [
  {
   "cell_type": "code",
   "execution_count": 2,
   "metadata": {},
   "outputs": [],
   "source": [
    "#Getting Started \n"
   ]
  },
  {
   "cell_type": "code",
   "execution_count": null,
   "metadata": {},
   "outputs": [],
   "source": [
    "input(\"hello, how are u today?\")"
   ]
  },
  {
   "cell_type": "code",
   "execution_count": null,
   "metadata": {
    "scrolled": true
   },
   "outputs": [],
   "source": [
    "res = input(\"hello how are you? \")\n",
    "print (res)\n",
    "\n",
    "if res == \"good\":\n",
    "    print(\"great\")"
   ]
  },
  {
   "cell_type": "code",
   "execution_count": 1,
   "metadata": {},
   "outputs": [
    {
     "name": "stdout",
     "output_type": "stream",
     "text": [
      "hello, my name is jo\n",
      "this is my friend,  jim\n"
     ]
    }
   ],
   "source": [
    "input(\"hello, my name is \")\n",
    "name = \"jim\"\n",
    "print(\"this is my friend, \", name)"
   ]
  },
  {
   "cell_type": "code",
   "execution_count": 5,
   "metadata": {},
   "outputs": [
    {
     "name": "stdout",
     "output_type": "stream",
     "text": [
      "enter your age = 16\n",
      "your age is  16\n"
     ]
    }
   ],
   "source": [
    "age = input(\"enter your age = \")\n",
    "#this next line will return your age\n",
    "'''\n",
    "this \n",
    "is \n",
    "a \n",
    "multi\n",
    "line\n",
    "comment\n",
    "'''\n",
    "print(\"your age is \", age)"
   ]
  },
  {
   "cell_type": "code",
   "execution_count": null,
   "metadata": {},
   "outputs": [],
   "source": []
  }
 ],
 "metadata": {
  "kernelspec": {
   "display_name": "Python 3",
   "language": "python",
   "name": "python3"
  },
  "language_info": {
   "codemirror_mode": {
    "name": "ipython",
    "version": 3
   },
   "file_extension": ".py",
   "mimetype": "text/x-python",
   "name": "python",
   "nbconvert_exporter": "python",
   "pygments_lexer": "ipython3",
   "version": "3.7.6"
  }
 },
 "nbformat": 4,
 "nbformat_minor": 2
}
