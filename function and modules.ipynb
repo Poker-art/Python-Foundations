{
 "cells": [
  {
   "cell_type": "code",
   "execution_count": 2,
   "metadata": {},
   "outputs": [
    {
     "name": "stdout",
     "output_type": "stream",
     "text": [
      "this is a function\n"
     ]
    }
   ],
   "source": [
    "def func1 ():\n",
    "    print(\"this is a function\")\n",
    "func1()"
   ]
  },
  {
   "cell_type": "code",
   "execution_count": 3,
   "metadata": {},
   "outputs": [
    {
     "data": {
      "text/plain": [
       "1.8"
      ]
     },
     "execution_count": 3,
     "metadata": {},
     "output_type": "execute_result"
    }
   ],
   "source": [
    "def div (num):\n",
    "    num = num/10\n",
    "    return num\n",
    "div(18)"
   ]
  },
  {
   "cell_type": "code",
   "execution_count": 4,
   "metadata": {},
   "outputs": [
    {
     "data": {
      "text/plain": [
       "9898.9"
      ]
     },
     "execution_count": 4,
     "metadata": {},
     "output_type": "execute_result"
    }
   ],
   "source": [
    "div(98989)"
   ]
  },
  {
   "cell_type": "code",
   "execution_count": 5,
   "metadata": {},
   "outputs": [
    {
     "data": {
      "text/plain": [
       "[8]"
      ]
     },
     "execution_count": 5,
     "metadata": {},
     "output_type": "execute_result"
    }
   ],
   "source": [
    "def list1 (num):\n",
    "    lst=[]\n",
    "    lst.append(num)\n",
    "    return lst\n",
    "list1(8)\n"
   ]
  },
  {
   "cell_type": "code",
   "execution_count": 6,
   "metadata": {
    "scrolled": true
   },
   "outputs": [
    {
     "data": {
      "text/plain": [
       "[9]"
      ]
     },
     "execution_count": 6,
     "metadata": {},
     "output_type": "execute_result"
    }
   ],
   "source": [
    "list1(9)"
   ]
  },
  {
   "cell_type": "code",
   "execution_count": 27,
   "metadata": {},
   "outputs": [
    {
     "data": {
      "text/plain": [
       "6"
      ]
     },
     "execution_count": 27,
     "metadata": {},
     "output_type": "execute_result"
    }
   ],
   "source": [
    "from random import choice\n",
    "lst=[7,8,54,232,6]\n",
    "choice(lst)\n"
   ]
  },
  {
   "cell_type": "code",
   "execution_count": 3,
   "metadata": {},
   "outputs": [],
   "source": [
    "import random as rnd"
   ]
  },
  {
   "cell_type": "code",
   "execution_count": 17,
   "metadata": {},
   "outputs": [
    {
     "data": {
      "text/plain": [
       "65"
      ]
     },
     "execution_count": 17,
     "metadata": {},
     "output_type": "execute_result"
    }
   ],
   "source": [
    "lst = [1,2,3,45,65,76,6,54543,434]\n",
    "\n",
    "rnd.choice(lst)"
   ]
  },
  {
   "cell_type": "code",
   "execution_count": 47,
   "metadata": {},
   "outputs": [
    {
     "name": "stdout",
     "output_type": "stream",
     "text": [
      "9265586 \n",
      "\n",
      "2054524 \n",
      "\n",
      "4792693 \n",
      "\n",
      "7636757 \n",
      "\n",
      "867327 \n",
      "\n",
      "6713836 \n",
      "\n",
      "5779296 \n",
      "\n",
      "2456945 \n",
      "\n",
      "1273323 \n",
      "\n",
      "1759461 \n",
      "\n"
     ]
    }
   ],
   "source": [
    "for i in range(0,10):\n",
    "    z = rnd.randint(0,10**7)\n",
    "    print(z ,\"\\n\" )"
   ]
  },
  {
   "cell_type": "code",
   "execution_count": null,
   "metadata": {},
   "outputs": [],
   "source": []
  },
  {
   "cell_type": "code",
   "execution_count": 4,
   "metadata": {},
   "outputs": [
    {
     "data": {
      "text/plain": [
       "[43, 45, 6, 6, 3, 544]"
      ]
     },
     "execution_count": 4,
     "metadata": {},
     "output_type": "execute_result"
    }
   ],
   "source": [
    "lst = [1,2,3,43,45,6,6,3,544,]\n",
    "lst[3:]"
   ]
  },
  {
   "cell_type": "code",
   "execution_count": 14,
   "metadata": {},
   "outputs": [
    {
     "data": {
      "text/plain": [
       "['wow']"
      ]
     },
     "execution_count": 14,
     "metadata": {},
     "output_type": "execute_result"
    }
   ],
   "source": [
    "lst = [\"lolz\" , \"wow\" , \"nigga\" , \"nigga\", \"nonigga\" , \"nigga\",  \"wow\"]\n",
    "lst[::-52]"
   ]
  },
  {
   "cell_type": "code",
   "execution_count": 25,
   "metadata": {},
   "outputs": [
    {
     "data": {
      "text/plain": [
       "'ilay si eman ym yeh'"
      ]
     },
     "execution_count": 25,
     "metadata": {},
     "output_type": "execute_result"
    }
   ],
   "source": [
    "strng = \"hey my name is yali\"\n",
    "strng[::-1]"
   ]
  },
  {
   "cell_type": "code",
   "execution_count": 28,
   "metadata": {},
   "outputs": [
    {
     "data": {
      "text/plain": [
       "{1, 2, 3, 4, 5, 6, 7, 8, 89}"
      ]
     },
     "execution_count": 28,
     "metadata": {},
     "output_type": "execute_result"
    }
   ],
   "source": [
    "a =[1,2,3,4,5,6,5,6,5,6,2,1,7,8,89,8,8,8,8,8,8,7,6,7,6,7,6,7,6]\n",
    "set(a)"
   ]
  },
  {
   "cell_type": "code",
   "execution_count": 11,
   "metadata": {},
   "outputs": [
    {
     "ename": "NameError",
     "evalue": "name 'lst' is not defined",
     "output_type": "error",
     "traceback": [
      "\u001b[1;31m---------------------------------------------------------------------------\u001b[0m",
      "\u001b[1;31mNameError\u001b[0m                                 Traceback (most recent call last)",
      "\u001b[1;32m<ipython-input-11-d74f7667c673>\u001b[0m in \u001b[0;36m<module>\u001b[1;34m\u001b[0m\n\u001b[0;32m      7\u001b[0m '''\n\u001b[0;32m      8\u001b[0m \u001b[1;33m\u001b[0m\u001b[0m\n\u001b[1;32m----> 9\u001b[1;33m \u001b[0mtype\u001b[0m\u001b[1;33m(\u001b[0m\u001b[0mlst\u001b[0m\u001b[1;33m)\u001b[0m\u001b[1;33m\u001b[0m\u001b[1;33m\u001b[0m\u001b[0m\n\u001b[0m\u001b[0;32m     10\u001b[0m \u001b[0mtu\u001b[0m \u001b[1;33m=\u001b[0m\u001b[1;33m(\u001b[0m\u001b[1;36m4\u001b[0m\u001b[1;33m,\u001b[0m\u001b[1;36m3\u001b[0m\u001b[1;33m,\u001b[0m\u001b[1;36m4\u001b[0m\u001b[1;33m,\u001b[0m\u001b[1;36m5\u001b[0m\u001b[1;33m,\u001b[0m\u001b[0mlst\u001b[0m\u001b[1;33m,\u001b[0m\u001b[1;34m\"hey\"\u001b[0m\u001b[1;33m)\u001b[0m\u001b[1;33m\u001b[0m\u001b[1;33m\u001b[0m\u001b[0m\n\u001b[0;32m     11\u001b[0m \u001b[0mtu\u001b[0m\u001b[1;33m.\u001b[0m\u001b[0minsert\u001b[0m\u001b[1;33m(\u001b[0m\u001b[1;36m1\u001b[0m\u001b[1;33m,\u001b[0m\u001b[1;36m4\u001b[0m\u001b[1;33m)\u001b[0m\u001b[1;33m\u001b[0m\u001b[1;33m\u001b[0m\u001b[0m\n",
      "\u001b[1;31mNameError\u001b[0m: name 'lst' is not defined"
     ]
    }
   ],
   "source": [
    "#tuples\n",
    "'''\n",
    "Tuples = ()\n",
    "Dictionary = {}\n",
    "lists = []\n",
    "Sets = {}\n",
    "'''\n",
    "\n",
    "type(lst)\n",
    "tu =(4,3,4,5,lst,\"hey\")\n",
    "tu.insert(1,4)\n",
    "print(tu)"
   ]
  },
  {
   "cell_type": "code",
   "execution_count": 49,
   "metadata": {},
   "outputs": [
    {
     "data": {
      "text/plain": [
       "{0,\n",
       " 1,\n",
       " 2,\n",
       " 3,\n",
       " 4,\n",
       " 5,\n",
       " 6,\n",
       " 7,\n",
       " 32,\n",
       " 42,\n",
       " 43,\n",
       " 45,\n",
       " 65,\n",
       " 77,\n",
       " 79,\n",
       " 92,\n",
       " 98,\n",
       " 213,\n",
       " 235,\n",
       " 432,\n",
       " 456,\n",
       " 573,\n",
       " 4545,\n",
       " 4556}"
      ]
     },
     "execution_count": 49,
     "metadata": {},
     "output_type": "execute_result"
    }
   ],
   "source": [
    "lst = [1,1,1,1,1,1,1,1,1,1,1,1,1,1,1,2,3,43,45,65,6,7,77,65,5,4,3,2,2,2,42,4545,3,432,4,2,32,3,4,45,4556,213,0,92,3,98,573,456,79,235]\n",
    "set(lst)"
   ]
  },
  {
   "cell_type": "code",
   "execution_count": 6,
   "metadata": {},
   "outputs": [
    {
     "name": "stdout",
     "output_type": "stream",
     "text": [
      "{'type': 'uchiha', 'village': 'leaf', 'name': 'sasuke'}\n"
     ]
    }
   ],
   "source": [
    "#dictionary \n",
    "\n",
    "dic = {\"type\":\"uchiha\",\n",
    "    \"village\":\"leaf\"}\n",
    "dic[\"type\"]\n",
    "dic[\"name\"] = \"sasuke\"\n",
    "print(dic)"
   ]
  },
  {
   "cell_type": "code",
   "execution_count": 31,
   "metadata": {},
   "outputs": [
    {
     "name": "stdout",
     "output_type": "stream",
     "text": [
      "{'jim b': 1200, 'hank s': 15000, 'hamil': 100}\n",
      "{'jim b': 1200, 'hank s': 15000, 'hamil': 30000}\n",
      "{'jim b': 1200, 'hank s': 15000, 'hamil': 30000, 'jenny': 800}\n"
     ]
    }
   ],
   "source": [
    "dic[\"type\"] = \"byakugan\"\n",
    "#pint(dic)\n",
    "\n",
    "\n",
    "current_account = {\"jim b\":1200,\"hank s\":15000,\"hamil\":100}\n",
    "print(current_account)\n",
    "current_account[\"hamil\"]+=29900\n",
    "print(current_account)\n",
    "current_account[\"jenny\"] = 800\n",
    "print(current_account)\n"
   ]
  },
  {
   "cell_type": "code",
   "execution_count": 29,
   "metadata": {},
   "outputs": [
    {
     "name": "stdout",
     "output_type": "stream",
     "text": [
      "{'jim': [123, 7657, 23456], 'kate': ['k1 = ', [2345, 4234, 65573, 2354], [34557, 43256, 8678], [3468, 3486]]}\n"
     ]
    }
   ],
   "source": [
    "k1 = [123,7657,23456]\n",
    "k2 = [\"k1 = \",[2345,4234,65573,2354],[34557,43256,8678],[3468,3486]]\n",
    "\n",
    "keys = {\"jim\":k1,\"kate\":k2}\n",
    "print(keys)\n"
   ]
  },
  {
   "cell_type": "code",
   "execution_count": 85,
   "metadata": {},
   "outputs": [
    {
     "name": "stdout",
     "output_type": "stream",
     "text": [
      "[3, 6, 9, 13, 47, 101, 102, 104, 105, 200, 301]\n",
      "[13, 47, 101, 102, 104, 105, 200, 301]\n",
      "[301, 200, 105, 104, 102, 101, 47, 13, 9, 6, 3]\n",
      "[3, 9, 47, 102]\n"
     ]
    }
   ],
   "source": [
    "#practical\n",
    "\n",
    "#list slicing\n",
    "list_nums = [3,6,9,13,47,101,102,104,105,200,301]\n",
    "print(list_nums)\n",
    "print(list_nums[3:])\n",
    "print(list_nums[::-1])\n",
    "ayo = list_nums[:8:2]\n",
    "print(ayo)"
   ]
  },
  {
   "cell_type": "code",
   "execution_count": 84,
   "metadata": {},
   "outputs": [
    {
     "name": "stdout",
     "output_type": "stream",
     "text": [
      "christmas trees\n",
      "!seert samtsirhc ekil I ,olleH\n"
     ]
    }
   ],
   "source": [
    "#string slicing\n",
    "sentence = \"Hello, I like christmas trees!\"\n",
    "print(sentence[14:29]) \n",
    "print(sentence[::-1])"
   ]
  },
  {
   "cell_type": "code",
   "execution_count": 52,
   "metadata": {},
   "outputs": [
    {
     "name": "stdout",
     "output_type": "stream",
     "text": [
      "2\n"
     ]
    }
   ],
   "source": [
    "list_list = [[1,2,3],[4,5,6]]\n",
    "print(list_list[0][1])"
   ]
  },
  {
   "cell_type": "code",
   "execution_count": 86,
   "metadata": {},
   "outputs": [
    {
     "name": "stdout",
     "output_type": "stream",
     "text": [
      "[[1, 5, 2, 0.5], [0.2, 0.7, 19, 299]]\n",
      "[1, 5, 2, 0.5]\n",
      "19 1000\n"
     ]
    }
   ],
   "source": [
    "#matrixes\n",
    "\n",
    "matrix = [[[1,5,2,0.5],[0.2,0.7,19,299]],[[0.11,13,15.7,19,20],[1,0.1,0.01,0.2,20,23,1000]]]\n",
    "print(matrix[0])\n",
    "print(matrix[0][0])\n",
    "print(matrix[1][0][3],matrix[1][1][6])\n",
    "\n",
    "\n"
   ]
  },
  {
   "cell_type": "code",
   "execution_count": 87,
   "metadata": {},
   "outputs": [
    {
     "name": "stdout",
     "output_type": "stream",
     "text": [
      "123\n",
      "{'key1': 999, 'key2': 456, 'key3': 789, 'key4': 3123, 'key5': 987, 'key6': 345}\n"
     ]
    }
   ],
   "source": [
    "#sets and tuples\n",
    "list_names = [\"jim\",\"jackie\",\"harry\",\"jim\",\"hywel\",\"jackie\",\"hywel\"]\n",
    "set(list_names)\n",
    "#Sets provide only unique elements\n",
    "\n",
    "#tuple is different from a list because you cannot change a tuple , but in a list you can change the values quiet easily\n",
    "\n",
    "keys = {\"key1\":123,\"key2\":456,\"key3\":789,\"key4\":3123,\"key5\":987}\n",
    "keys\n",
    "keys[\"key6\"] = 345\n",
    "keys\n",
    "print(keys[\"key1\"])\n",
    "keys[\"key1\"] = 999\n",
    "print(keys)"
   ]
  },
  {
   "cell_type": "code",
   "execution_count": 88,
   "metadata": {},
   "outputs": [],
   "source": [
    "#End of practical"
   ]
  }
 ],
 "metadata": {
  "kernelspec": {
   "display_name": "Python 3",
   "language": "python",
   "name": "python3"
  },
  "language_info": {
   "codemirror_mode": {
    "name": "ipython",
    "version": 3
   },
   "file_extension": ".py",
   "mimetype": "text/x-python",
   "name": "python",
   "nbconvert_exporter": "python",
   "pygments_lexer": "ipython3",
   "version": "3.7.6"
  }
 },
 "nbformat": 4,
 "nbformat_minor": 2
}
