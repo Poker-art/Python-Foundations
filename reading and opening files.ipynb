{
 "cells": [
  {
   "cell_type": "code",
   "execution_count": 37,
   "metadata": {},
   "outputs": [],
   "source": [
    "#writing files\n",
    "\n",
    "\n",
    "foo = open(\"foo.txt\" , \"w\" )\n",
    "\n",
    "foo.write(\"this is an awesome file!!        \\n\")\n",
    "foo.write(\"yes!\")\n",
    "foo.close()"
   ]
  },
  {
   "cell_type": "code",
   "execution_count": 60,
   "metadata": {},
   "outputs": [
    {
     "name": "stdout",
     "output_type": "stream",
     "text": [
      "we are adding\n",
      "\n",
      "Hi \n",
      "\n",
      " helllooo\n",
      "\n",
      "\n",
      "\n",
      "\n",
      "\n",
      "we add to the file!!\n",
      "\n",
      "\n",
      "\n",
      "\n",
      "\n",
      "we add to the file!!\n"
     ]
    }
   ],
   "source": [
    "#reading files\n",
    "\n",
    "fo = open(\"foo.txt\")\n",
    "for i in fo:\n",
    "    print (i)\n",
    "fo.close()"
   ]
  },
  {
   "cell_type": "code",
   "execution_count": 56,
   "metadata": {},
   "outputs": [],
   "source": [
    "#overwriting files\n",
    "\n",
    "file = open(\"foo.txt\",\"w\")\n",
    "file.write(\"we are adding\\n\")\n",
    "file.write(\"Hi \\n helllooo\")\n",
    "file.close()"
   ]
  },
  {
   "cell_type": "code",
   "execution_count": 59,
   "metadata": {},
   "outputs": [],
   "source": []
  },
  {
   "cell_type": "code",
   "execution_count": 61,
   "metadata": {},
   "outputs": [
    {
     "data": {
      "text/plain": [
       "'\\npractical\\n\\n'"
      ]
     },
     "execution_count": 61,
     "metadata": {},
     "output_type": "execute_result"
    }
   ],
   "source": [
    "'''\n",
    "practical\n",
    "\n",
    "'''\n",
    "\n",
    "\n"
   ]
  },
  {
   "cell_type": "code",
   "execution_count": 91,
   "metadata": {},
   "outputs": [],
   "source": [
    "amazing_file = open(\"amazing_file.txt\" , \"w\")\n",
    "amazing_file.write(\"this is a file to show how awesome is python\")\n",
    "amazing_file.close()"
   ]
  },
  {
   "cell_type": "code",
   "execution_count": 107,
   "metadata": {},
   "outputs": [
    {
     "data": {
      "text/plain": [
       "'machine learning is awesome, i mean , U CAN CREATE MACHINES!\\n\\n\\n \\n \\n both python and machine learning are great, without one, the other kinda sucks (although python is better lolz)'"
      ]
     },
     "execution_count": 107,
     "metadata": {},
     "output_type": "execute_result"
    }
   ],
   "source": [
    "lo = open(\"amazing_file.txt\" , \"r\")\n",
    "lo.read()\n",
    "\n",
    "\n"
   ]
  },
  {
   "cell_type": "code",
   "execution_count": 104,
   "metadata": {},
   "outputs": [],
   "source": [
    "go = open(\"amazing_file.txt\" , \"w\")\n",
    "go.write(\"machine learning is awesome, i mean , U CAN CREATE MACHINES!\\n\\n\\n\")\n",
    "go.close()"
   ]
  },
  {
   "cell_type": "code",
   "execution_count": 106,
   "metadata": {},
   "outputs": [],
   "source": [
    "so = open(\"amazing_file.txt\" , \"a\")\n",
    "so.write(\" \\n \\n both python and machine learning are great, without one, the other kinda sucks (although python is better lolz)\")\n",
    "so.close()\n",
    "                                                                                                 "
   ]
  },
  {
   "cell_type": "code",
   "execution_count": null,
   "metadata": {},
   "outputs": [],
   "source": []
  }
 ],
 "metadata": {
  "kernelspec": {
   "display_name": "Python 3",
   "language": "python",
   "name": "python3"
  },
  "language_info": {
   "codemirror_mode": {
    "name": "ipython",
    "version": 3
   },
   "file_extension": ".py",
   "mimetype": "text/x-python",
   "name": "python",
   "nbconvert_exporter": "python",
   "pygments_lexer": "ipython3",
   "version": "3.7.6"
  }
 },
 "nbformat": 4,
 "nbformat_minor": 2
}
